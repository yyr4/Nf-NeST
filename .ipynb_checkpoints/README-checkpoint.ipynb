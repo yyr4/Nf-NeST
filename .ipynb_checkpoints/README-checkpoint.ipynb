{
 "cells": [
  {
   "cell_type": "markdown",
   "id": "4cc8ee0f-b55b-419e-9c12-44afd3df5fe9",
   "metadata": {
    "tags": []
   },
   "source": [
    "# Nextflow Next-generation Sequence-analysis Toolkit (Nf-NeST) : A standardized bioinformatics framework for analyzing SNPs in next-generation sequencing data\n",
    "\n",
    "\n",
    "# Requirements\n",
    "- Unix-like operating system (Linux, macOS, etc)\n",
    "- Java 8\n",
    "- Docker\n",
    "- Nextflow\n",
    "\n",
    "# Installation\n",
    "\n",
    "1. Download git repository:\n",
    "\n",
    "```\n",
    "git clone https://github.com/yyr4/Nf-NeST.git\n",
    "\n",
    "```\n",
    "2. Install Nextflow (version 20.07.x or higher):\n",
    "\n",
    "```\n",
    " curl -s https://get.nextflow.io | bash\n",
    "\n",
    "```\n",
    "3. If you don't have it already install Docker in your computer, download and install from [here](https://docs.docker.com/).  \n",
    "\n",
    "4. Launch the pipeline execution:\n",
    "```\n",
    " ./nextflow run yyr4/Nf-NeST -with-docker\n",
    "```"
   ]
  },
  {
   "cell_type": "code",
   "execution_count": null,
   "id": "c25b103d-b30f-4de8-b7ef-dce51379ce93",
   "metadata": {},
   "outputs": [],
   "source": [
    "Input:\n",
    "    \n",
    "    \n",
    "    \n",
    "\n",
    "Output"
   ]
  },
  {
   "cell_type": "code",
   "execution_count": null,
   "id": "c1811413-b884-4310-a2a6-0ac157c9aa34",
   "metadata": {},
   "outputs": [],
   "source": [
    "--reads\n",
    "Specifies the location of the reads FASTQ file(s).\n",
    "Multiple files can be specified using the usual wildcards (*, ?), in this case make sure to surround the parameter string value by single quote characters (see the example below)\n",
    "By default it is set to the CalliNGS-NF's location: $baseDir/data/reads/rep1_{1,2}.fq.gz\n",
    "See above for naming convention of samples, replicates and pairs read files.\n",
    "Example:\\\n",
    "\n",
    "$ nextflow run CRG-CNAG/CalliNGS-NF --reads '/home/dataset/*_{1,2}.fq.gz'\n",
    "\n",
    "\n"
   ]
  }
 ],
 "metadata": {
  "kernelspec": {
   "display_name": "Python 3 (ipykernel)",
   "language": "python",
   "name": "python3"
  },
  "language_info": {
   "codemirror_mode": {
    "name": "ipython",
    "version": 3
   },
   "file_extension": ".py",
   "mimetype": "text/x-python",
   "name": "python",
   "nbconvert_exporter": "python",
   "pygments_lexer": "ipython3",
   "version": "3.9.12"
  }
 },
 "nbformat": 4,
 "nbformat_minor": 5
}
